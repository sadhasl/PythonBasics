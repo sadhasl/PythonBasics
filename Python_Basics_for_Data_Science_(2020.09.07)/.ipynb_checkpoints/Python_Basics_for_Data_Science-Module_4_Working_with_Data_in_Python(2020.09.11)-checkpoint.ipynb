{
 "cells": [
  {
   "cell_type": "markdown",
   "metadata": {},
   "source": [
    "## Reading files with open"
   ]
  },
  {
   "cell_type": "code",
   "execution_count": 1,
   "metadata": {},
   "outputs": [
    {
     "name": "stdout",
     "output_type": "stream",
     "text": [
      "/Users/sadha/Desktop/Python/Python_Basics_for_Data_Science_(2020.09.07)/resources/Example2.txt\n",
      "w\n",
      "False\n",
      "True\n"
     ]
    }
   ],
   "source": [
    "file1 = open(\"/Users/sadha/Desktop/Python/Python_Basics_for_Data_Science_(2020.09.07)/resources/Example2.txt\", \"w\")\n",
    "#\"w\" is for writing, \"r\" is for reading, \"a\" is for appending\n",
    "\n",
    "print(file1.name) #result is \"/resources/Example2.txt\"\n",
    "print(file1.mode) #to see what mode the object is in, e.g. \"r\", \"w\", \"a\"\n",
    "\n",
    "\n",
    "print(file1.closed) #to check if file1 is closed or no\n",
    "file1.close() #to close file1\n",
    "print(file1.closed) #re-check"
   ]
  },
  {
   "cell_type": "code",
   "execution_count": 2,
   "metadata": {},
   "outputs": [
    {
     "data": {
      "text/plain": [
       "'this is line1\\nthis is line2\\nthis is line3'"
      ]
     },
     "execution_count": 2,
     "metadata": {},
     "output_type": "execute_result"
    }
   ],
   "source": [
    "file1 = open(\"Example1.txt\", \"r\")\n",
    "FileContent = file1.read()\n",
    "FileContent"
   ]
  },
  {
   "cell_type": "code",
   "execution_count": 3,
   "metadata": {},
   "outputs": [
    {
     "name": "stdout",
     "output_type": "stream",
     "text": [
      "this is line1\n",
      "this is line2\n",
      "this is line3\n",
      "\n",
      " <class 'str'>\n"
     ]
    }
   ],
   "source": [
    "print(FileContent)\n",
    "print(\"\\n\", type(FileContent))\n",
    "\n",
    "file1.close()"
   ]
  },
  {
   "cell_type": "code",
   "execution_count": 4,
   "metadata": {},
   "outputs": [
    {
     "name": "stdout",
     "output_type": "stream",
     "text": [
      "this is line1\n",
      "this is line2\n",
      "this is line3\n",
      "True\n",
      "this is line1\n",
      "this is line2\n",
      "this is line3\n"
     ]
    }
   ],
   "source": [
    "with open(\"Example1.txt\", \"r\") as file1:\n",
    "    file_stuff = file1.read() #storing the values of the file in variable file_stuff as a string\n",
    "    print(file_stuff)\n",
    "print(file1.closed) #verify if file1 is closed or no\n",
    "print(file_stuff) #we can still print even if file1 is closed"
   ]
  },
  {
   "cell_type": "code",
   "execution_count": 5,
   "metadata": {},
   "outputs": [
    {
     "name": "stdout",
     "output_type": "stream",
     "text": [
      "th\n",
      "is is line1\n",
      "\n",
      "this is line2\n",
      "\n",
      "True\n"
     ]
    }
   ],
   "source": [
    "with open(\"Example1.txt\", \"r\") as file1:\n",
    "    file_stuff = file1.readline(2) #read first 2 characters\n",
    "    print(file_stuff)\n",
    "    file_stuff = file1.readline() #read the remaining characters from 1st line\n",
    "    print(file_stuff)\n",
    "    file_stuff = file1.readline() #read the next line fully\n",
    "    print(file_stuff)\n",
    "print(file1.closed)"
   ]
  },
  {
   "cell_type": "code",
   "execution_count": 6,
   "metadata": {},
   "outputs": [
    {
     "name": "stdout",
     "output_type": "stream",
     "text": [
      "this is line1\n",
      "\n",
      "this is line2\n",
      "\n",
      "this is line3\n",
      "True\n"
     ]
    }
   ],
   "source": [
    "with open(\"Example1.txt\", \"r\") as file1:\n",
    "    for line in file1: #loop to read line\n",
    "        print(line)\n",
    "print(file1.closed)"
   ]
  },
  {
   "cell_type": "code",
   "execution_count": 7,
   "metadata": {},
   "outputs": [
    {
     "data": {
      "text/plain": [
       "'this is line2\\n'"
      ]
     },
     "execution_count": 7,
     "metadata": {},
     "output_type": "execute_result"
    }
   ],
   "source": [
    "with open(\"Example1.txt\", \"r\") as file1:\n",
    "    FileasList = file1.readlines()\n",
    "    \n",
    "FileasList[1]"
   ]
  },
  {
   "cell_type": "markdown",
   "metadata": {},
   "source": [
    "## Writing files with open"
   ]
  },
  {
   "cell_type": "code",
   "execution_count": 8,
   "metadata": {},
   "outputs": [
    {
     "name": "stdout",
     "output_type": "stream",
     "text": [
      "line A\n",
      "line B\n",
      "line C\n",
      "line A2\n",
      "line B2\n",
      "line C2\n",
      "\n",
      "True\n"
     ]
    }
   ],
   "source": [
    "file2 = open(\"examplewrite.txt\", \"r\")\n",
    "print(file2.read())\n",
    "file2.close()\n",
    "print(file2.closed)"
   ]
  },
  {
   "cell_type": "code",
   "execution_count": 9,
   "metadata": {},
   "outputs": [
    {
     "name": "stdout",
     "output_type": "stream",
     "text": [
      "True\n"
     ]
    }
   ],
   "source": [
    "with open(\"examplewrite.txt\", \"w\") as file2: #use mode \"w\" for writting\n",
    "    file2.write(\"this is new line\")\n",
    "print(file2.closed)"
   ]
  },
  {
   "cell_type": "code",
   "execution_count": 10,
   "metadata": {},
   "outputs": [
    {
     "name": "stdout",
     "output_type": "stream",
     "text": [
      "True\n",
      "this is new line\n"
     ]
    }
   ],
   "source": [
    "with open(\"examplewrite.txt\", \"r\") as file2:\n",
    "    readfile2 = file2.read()\n",
    "print(file2.closed)\n",
    "print(readfile2) #previous content is overwritten if we used \"w\""
   ]
  },
  {
   "cell_type": "code",
   "execution_count": 11,
   "metadata": {},
   "outputs": [
    {
     "name": "stdout",
     "output_type": "stream",
     "text": [
      "True\n",
      "True\n",
      "line A\n",
      "line B\n",
      "line C\n",
      "\n"
     ]
    }
   ],
   "source": [
    "#writing list onto file\n",
    "\n",
    "Lines = [\"line A\\n\", \"line B\\n\", \"line C\\n\"]\n",
    "with open(\"examplewrite.txt\", \"w\") as file2: \n",
    "    for line in Lines:\n",
    "        file2.write(line)\n",
    "        \n",
    "print(file2.closed)\n",
    "\n",
    "with open(\"examplewrite.txt\", \"r\") as file2:\n",
    "    readfile2 = file2.read()\n",
    "print(file2.closed)\n",
    "print(readfile2)"
   ]
  },
  {
   "cell_type": "code",
   "execution_count": 12,
   "metadata": {},
   "outputs": [
    {
     "name": "stdout",
     "output_type": "stream",
     "text": [
      "True\n",
      "True\n",
      "line A\n",
      "line B\n",
      "line C\n",
      "line A2\n",
      "line B2\n",
      "line C2\n",
      "\n"
     ]
    }
   ],
   "source": [
    "Lines2 = [\"line A2\\n\", \"line B2\\n\", \"line C2\\n\"]\n",
    "with open(\"examplewrite.txt\", \"a\") as file2: #use append\n",
    "    for line in Lines2:\n",
    "        file2.write(line)\n",
    "        \n",
    "print(file2.closed)\n",
    "\n",
    "with open(\"examplewrite.txt\", \"r\") as file2:\n",
    "    readfile2 = file2.read()\n",
    "print(file2.closed)\n",
    "print(readfile2) #previous content is not overwritten"
   ]
  },
  {
   "cell_type": "code",
   "execution_count": 13,
   "metadata": {},
   "outputs": [
    {
     "name": "stdout",
     "output_type": "stream",
     "text": [
      "line A\n",
      "line B\n",
      "line C\n",
      "line A2\n",
      "line B2\n",
      "line C2\n",
      "\n",
      "line A\n",
      "line B\n",
      "line C\n",
      "line A2\n",
      "line B2\n",
      "line C2\n",
      "\n"
     ]
    }
   ],
   "source": [
    "#write content from one file to another\n",
    "\n",
    "with open(\"examplewrite.txt\", \"r\") as readfile:\n",
    "    examplewrite12 = readfile.read()\n",
    "    with open(\"newtext.txt\", \"w\") as writefile:\n",
    "        for lines in examplewrite12:\n",
    "            writefile.write(lines) #write every line from readfile or \"examplewrite\" onto writefile or \"newtext\"\n",
    "            \n",
    "with open(\"examplewrite.txt\", \"r\") as readfile:\n",
    "    print(readfile.read())\n",
    "\n",
    "with open('newtext.txt','r') as testwritefile:\n",
    "    print(testwritefile.read())"
   ]
  },
  {
   "cell_type": "code",
   "execution_count": 14,
   "metadata": {},
   "outputs": [
    {
     "name": "stdout",
     "output_type": "stream",
     "text": [
      "This is Delhi \n",
      "This is Paris \n",
      "This is London \n",
      "\n"
     ]
    }
   ],
   "source": [
    "# Writing a new file and saving in .txt format\n",
    "file1 = open(\"createnewfile.txt\",\"w\")\n",
    "L = [\"This is Delhi \\n\",\"This is Paris \\n\",\"This is London \\n\"]\n",
    "file1.writelines(L)\n",
    "file1.close()\n",
    "\n",
    "with open(\"createnewfile.txt\", \"r\") as readfile:\n",
    "    createnewfile101 = readfile.read()\n",
    "print(createnewfile101)"
   ]
  },
  {
   "cell_type": "markdown",
   "metadata": {},
   "source": [
    "## Loading data with pandas"
   ]
  },
  {
   "cell_type": "code",
   "execution_count": 15,
   "metadata": {},
   "outputs": [
    {
     "data": {
      "text/html": [
       "<div>\n",
       "<style scoped>\n",
       "    .dataframe tbody tr th:only-of-type {\n",
       "        vertical-align: middle;\n",
       "    }\n",
       "\n",
       "    .dataframe tbody tr th {\n",
       "        vertical-align: top;\n",
       "    }\n",
       "\n",
       "    .dataframe thead th {\n",
       "        text-align: right;\n",
       "    }\n",
       "</style>\n",
       "<table border=\"1\" class=\"dataframe\">\n",
       "  <thead>\n",
       "    <tr style=\"text-align: right;\">\n",
       "      <th></th>\n",
       "      <th>Album</th>\n",
       "      <th>Released</th>\n",
       "      <th>Length</th>\n",
       "    </tr>\n",
       "  </thead>\n",
       "  <tbody>\n",
       "    <tr>\n",
       "      <th>0</th>\n",
       "      <td>a</td>\n",
       "      <td>1982</td>\n",
       "      <td>00:42:19</td>\n",
       "    </tr>\n",
       "  </tbody>\n",
       "</table>\n",
       "</div>"
      ],
      "text/plain": [
       "  Album  Released    Length\n",
       "0     a      1982  00:42:19"
      ]
     },
     "execution_count": 15,
     "metadata": {},
     "output_type": "execute_result"
    }
   ],
   "source": [
    "songs = {\"Album\":[\"a\", \"b\", \"c\", \"d\"],\n",
    "        \"Released\":[1982, 1980, 1973, 1982],\n",
    "        \"Length\":[\"00:42:19\", \"00:42:11\", \"00:42:49\", \"00:42:11\"]}\n",
    "\n",
    "import pandas as pd\n",
    "df = pd.DataFrame(songs)\n",
    "df.head(1)"
   ]
  },
  {
   "cell_type": "code",
   "execution_count": 16,
   "metadata": {},
   "outputs": [
    {
     "data": {
      "text/plain": [
       "0    00:42:19\n",
       "1    00:42:11\n",
       "2    00:42:49\n",
       "3    00:42:11\n",
       "Name: Length, dtype: object"
      ]
     },
     "execution_count": 16,
     "metadata": {},
     "output_type": "execute_result"
    }
   ],
   "source": [
    "df[\"Length\"]"
   ]
  },
  {
   "cell_type": "code",
   "execution_count": 17,
   "metadata": {},
   "outputs": [
    {
     "data": {
      "text/html": [
       "<div>\n",
       "<style scoped>\n",
       "    .dataframe tbody tr th:only-of-type {\n",
       "        vertical-align: middle;\n",
       "    }\n",
       "\n",
       "    .dataframe tbody tr th {\n",
       "        vertical-align: top;\n",
       "    }\n",
       "\n",
       "    .dataframe thead th {\n",
       "        text-align: right;\n",
       "    }\n",
       "</style>\n",
       "<table border=\"1\" class=\"dataframe\">\n",
       "  <thead>\n",
       "    <tr style=\"text-align: right;\">\n",
       "      <th></th>\n",
       "      <th>Album</th>\n",
       "      <th>Released</th>\n",
       "      <th>Length</th>\n",
       "    </tr>\n",
       "  </thead>\n",
       "  <tbody>\n",
       "    <tr>\n",
       "      <th>0</th>\n",
       "      <td>a</td>\n",
       "      <td>1982</td>\n",
       "      <td>00:42:19</td>\n",
       "    </tr>\n",
       "    <tr>\n",
       "      <th>1</th>\n",
       "      <td>b</td>\n",
       "      <td>1980</td>\n",
       "      <td>00:42:11</td>\n",
       "    </tr>\n",
       "    <tr>\n",
       "      <th>2</th>\n",
       "      <td>c</td>\n",
       "      <td>1973</td>\n",
       "      <td>00:42:49</td>\n",
       "    </tr>\n",
       "    <tr>\n",
       "      <th>3</th>\n",
       "      <td>d</td>\n",
       "      <td>1982</td>\n",
       "      <td>00:42:11</td>\n",
       "    </tr>\n",
       "  </tbody>\n",
       "</table>\n",
       "</div>"
      ],
      "text/plain": [
       "  Album  Released    Length\n",
       "0     a      1982  00:42:19\n",
       "1     b      1980  00:42:11\n",
       "2     c      1973  00:42:49\n",
       "3     d      1982  00:42:11"
      ]
     },
     "execution_count": 17,
     "metadata": {},
     "output_type": "execute_result"
    }
   ],
   "source": [
    "df"
   ]
  },
  {
   "cell_type": "code",
   "execution_count": 18,
   "metadata": {},
   "outputs": [
    {
     "name": "stdout",
     "output_type": "stream",
     "text": [
      "a\n",
      "b\n"
     ]
    }
   ],
   "source": [
    "print(df.loc[0,\"Album\"])\n",
    "print(df.iloc[1,0])"
   ]
  },
  {
   "cell_type": "code",
   "execution_count": 19,
   "metadata": {
    "scrolled": true
   },
   "outputs": [
    {
     "data": {
      "text/html": [
       "<div>\n",
       "<style scoped>\n",
       "    .dataframe tbody tr th:only-of-type {\n",
       "        vertical-align: middle;\n",
       "    }\n",
       "\n",
       "    .dataframe tbody tr th {\n",
       "        vertical-align: top;\n",
       "    }\n",
       "\n",
       "    .dataframe thead th {\n",
       "        text-align: right;\n",
       "    }\n",
       "</style>\n",
       "<table border=\"1\" class=\"dataframe\">\n",
       "  <thead>\n",
       "    <tr style=\"text-align: right;\">\n",
       "      <th></th>\n",
       "      <th>Album</th>\n",
       "      <th>Released</th>\n",
       "      <th>Length</th>\n",
       "    </tr>\n",
       "  </thead>\n",
       "  <tbody>\n",
       "    <tr>\n",
       "      <th>0</th>\n",
       "      <td>a</td>\n",
       "      <td>1982</td>\n",
       "      <td>00:42:19</td>\n",
       "    </tr>\n",
       "    <tr>\n",
       "      <th>1</th>\n",
       "      <td>b</td>\n",
       "      <td>1980</td>\n",
       "      <td>00:42:11</td>\n",
       "    </tr>\n",
       "  </tbody>\n",
       "</table>\n",
       "</div>"
      ],
      "text/plain": [
       "  Album  Released    Length\n",
       "0     a      1982  00:42:19\n",
       "1     b      1980  00:42:11"
      ]
     },
     "execution_count": 19,
     "metadata": {},
     "output_type": "execute_result"
    }
   ],
   "source": [
    "z = df.loc[0:1, \"Album\":\"Length\"] #slicing dataframe\n",
    "z"
   ]
  },
  {
   "cell_type": "markdown",
   "metadata": {},
   "source": [
    "## Working with and Saving data"
   ]
  },
  {
   "cell_type": "code",
   "execution_count": 20,
   "metadata": {},
   "outputs": [
    {
     "data": {
      "text/html": [
       "<div>\n",
       "<style scoped>\n",
       "    .dataframe tbody tr th:only-of-type {\n",
       "        vertical-align: middle;\n",
       "    }\n",
       "\n",
       "    .dataframe tbody tr th {\n",
       "        vertical-align: top;\n",
       "    }\n",
       "\n",
       "    .dataframe thead th {\n",
       "        text-align: right;\n",
       "    }\n",
       "</style>\n",
       "<table border=\"1\" class=\"dataframe\">\n",
       "  <thead>\n",
       "    <tr style=\"text-align: right;\">\n",
       "      <th></th>\n",
       "      <th>Album</th>\n",
       "      <th>Released</th>\n",
       "      <th>Length</th>\n",
       "    </tr>\n",
       "  </thead>\n",
       "  <tbody>\n",
       "    <tr>\n",
       "      <th>0</th>\n",
       "      <td>a</td>\n",
       "      <td>1982</td>\n",
       "      <td>00:42:19</td>\n",
       "    </tr>\n",
       "    <tr>\n",
       "      <th>1</th>\n",
       "      <td>b</td>\n",
       "      <td>1980</td>\n",
       "      <td>00:42:11</td>\n",
       "    </tr>\n",
       "    <tr>\n",
       "      <th>2</th>\n",
       "      <td>c</td>\n",
       "      <td>1973</td>\n",
       "      <td>00:42:49</td>\n",
       "    </tr>\n",
       "    <tr>\n",
       "      <th>3</th>\n",
       "      <td>d</td>\n",
       "      <td>1982</td>\n",
       "      <td>00:42:11</td>\n",
       "    </tr>\n",
       "  </tbody>\n",
       "</table>\n",
       "</div>"
      ],
      "text/plain": [
       "  Album  Released    Length\n",
       "0     a      1982  00:42:19\n",
       "1     b      1980  00:42:11\n",
       "2     c      1973  00:42:49\n",
       "3     d      1982  00:42:11"
      ]
     },
     "execution_count": 20,
     "metadata": {},
     "output_type": "execute_result"
    }
   ],
   "source": [
    "songs = {\"Album\":[\"a\", \"b\", \"c\", \"d\"],\n",
    "        \"Released\":[1982, 1980, 1973, 1982],\n",
    "        \"Length\":[\"00:42:19\", \"00:42:11\", \"00:42:49\", \"00:42:11\"]}\n",
    "\n",
    "import pandas as pd\n",
    "df = pd.DataFrame(songs)\n",
    "df"
   ]
  },
  {
   "cell_type": "code",
   "execution_count": 21,
   "metadata": {},
   "outputs": [
    {
     "data": {
      "text/plain": [
       "array([1982, 1980, 1973], dtype=int64)"
      ]
     },
     "execution_count": 21,
     "metadata": {},
     "output_type": "execute_result"
    }
   ],
   "source": [
    "#to find array of data without duplicate (note that there are two year 1982 in df)\n",
    "df[\"Released\"].unique()"
   ]
  },
  {
   "cell_type": "code",
   "execution_count": 22,
   "metadata": {},
   "outputs": [
    {
     "data": {
      "text/plain": [
       "0    1982\n",
       "1    1980\n",
       "2    1973\n",
       "3    1982\n",
       "Name: Released, dtype: int64"
      ]
     },
     "execution_count": 22,
     "metadata": {},
     "output_type": "execute_result"
    }
   ],
   "source": [
    "df[\"Released\"] #get column as series"
   ]
  },
  {
   "cell_type": "code",
   "execution_count": 23,
   "metadata": {},
   "outputs": [
    {
     "data": {
      "text/html": [
       "<div>\n",
       "<style scoped>\n",
       "    .dataframe tbody tr th:only-of-type {\n",
       "        vertical-align: middle;\n",
       "    }\n",
       "\n",
       "    .dataframe tbody tr th {\n",
       "        vertical-align: top;\n",
       "    }\n",
       "\n",
       "    .dataframe thead th {\n",
       "        text-align: right;\n",
       "    }\n",
       "</style>\n",
       "<table border=\"1\" class=\"dataframe\">\n",
       "  <thead>\n",
       "    <tr style=\"text-align: right;\">\n",
       "      <th></th>\n",
       "      <th>Released</th>\n",
       "    </tr>\n",
       "  </thead>\n",
       "  <tbody>\n",
       "    <tr>\n",
       "      <th>0</th>\n",
       "      <td>1982</td>\n",
       "    </tr>\n",
       "    <tr>\n",
       "      <th>1</th>\n",
       "      <td>1980</td>\n",
       "    </tr>\n",
       "    <tr>\n",
       "      <th>2</th>\n",
       "      <td>1973</td>\n",
       "    </tr>\n",
       "    <tr>\n",
       "      <th>3</th>\n",
       "      <td>1982</td>\n",
       "    </tr>\n",
       "  </tbody>\n",
       "</table>\n",
       "</div>"
      ],
      "text/plain": [
       "   Released\n",
       "0      1982\n",
       "1      1980\n",
       "2      1973\n",
       "3      1982"
      ]
     },
     "execution_count": 23,
     "metadata": {},
     "output_type": "execute_result"
    }
   ],
   "source": [
    "df[[\"Released\"]] #get column as dataframe"
   ]
  },
  {
   "cell_type": "code",
   "execution_count": 24,
   "metadata": {},
   "outputs": [
    {
     "data": {
      "text/html": [
       "<div>\n",
       "<style scoped>\n",
       "    .dataframe tbody tr th:only-of-type {\n",
       "        vertical-align: middle;\n",
       "    }\n",
       "\n",
       "    .dataframe tbody tr th {\n",
       "        vertical-align: top;\n",
       "    }\n",
       "\n",
       "    .dataframe thead th {\n",
       "        text-align: right;\n",
       "    }\n",
       "</style>\n",
       "<table border=\"1\" class=\"dataframe\">\n",
       "  <thead>\n",
       "    <tr style=\"text-align: right;\">\n",
       "      <th></th>\n",
       "      <th>Released</th>\n",
       "      <th>Length</th>\n",
       "    </tr>\n",
       "  </thead>\n",
       "  <tbody>\n",
       "    <tr>\n",
       "      <th>0</th>\n",
       "      <td>1982</td>\n",
       "      <td>00:42:19</td>\n",
       "    </tr>\n",
       "    <tr>\n",
       "      <th>1</th>\n",
       "      <td>1980</td>\n",
       "      <td>00:42:11</td>\n",
       "    </tr>\n",
       "    <tr>\n",
       "      <th>2</th>\n",
       "      <td>1973</td>\n",
       "      <td>00:42:49</td>\n",
       "    </tr>\n",
       "    <tr>\n",
       "      <th>3</th>\n",
       "      <td>1982</td>\n",
       "      <td>00:42:11</td>\n",
       "    </tr>\n",
       "  </tbody>\n",
       "</table>\n",
       "</div>"
      ],
      "text/plain": [
       "   Released    Length\n",
       "0      1982  00:42:19\n",
       "1      1980  00:42:11\n",
       "2      1973  00:42:49\n",
       "3      1982  00:42:11"
      ]
     },
     "execution_count": 24,
     "metadata": {},
     "output_type": "execute_result"
    }
   ],
   "source": [
    "df[[\"Released\", \"Length\"]] #for multiple column"
   ]
  },
  {
   "cell_type": "code",
   "execution_count": 25,
   "metadata": {},
   "outputs": [
    {
     "data": {
      "text/plain": [
       "0     True\n",
       "1     True\n",
       "2    False\n",
       "3     True\n",
       "Name: Released, dtype: bool"
      ]
     },
     "execution_count": 25,
     "metadata": {},
     "output_type": "execute_result"
    }
   ],
   "source": [
    "df[\"Released\"] >= 1980"
   ]
  },
  {
   "cell_type": "code",
   "execution_count": 26,
   "metadata": {},
   "outputs": [
    {
     "data": {
      "text/html": [
       "<div>\n",
       "<style scoped>\n",
       "    .dataframe tbody tr th:only-of-type {\n",
       "        vertical-align: middle;\n",
       "    }\n",
       "\n",
       "    .dataframe tbody tr th {\n",
       "        vertical-align: top;\n",
       "    }\n",
       "\n",
       "    .dataframe thead th {\n",
       "        text-align: right;\n",
       "    }\n",
       "</style>\n",
       "<table border=\"1\" class=\"dataframe\">\n",
       "  <thead>\n",
       "    <tr style=\"text-align: right;\">\n",
       "      <th></th>\n",
       "      <th>Album</th>\n",
       "      <th>Released</th>\n",
       "      <th>Length</th>\n",
       "    </tr>\n",
       "  </thead>\n",
       "  <tbody>\n",
       "    <tr>\n",
       "      <th>0</th>\n",
       "      <td>a</td>\n",
       "      <td>1982</td>\n",
       "      <td>00:42:19</td>\n",
       "    </tr>\n",
       "    <tr>\n",
       "      <th>1</th>\n",
       "      <td>b</td>\n",
       "      <td>1980</td>\n",
       "      <td>00:42:11</td>\n",
       "    </tr>\n",
       "    <tr>\n",
       "      <th>3</th>\n",
       "      <td>d</td>\n",
       "      <td>1982</td>\n",
       "      <td>00:42:11</td>\n",
       "    </tr>\n",
       "  </tbody>\n",
       "</table>\n",
       "</div>"
      ],
      "text/plain": [
       "  Album  Released    Length\n",
       "0     a      1982  00:42:19\n",
       "1     b      1980  00:42:11\n",
       "3     d      1982  00:42:11"
      ]
     },
     "execution_count": 26,
     "metadata": {},
     "output_type": "execute_result"
    }
   ],
   "source": [
    "#we want to make df1 which consists of album with released year in 1980 or after\n",
    "\n",
    "df1 = df[df[\"Released\"] >= 1980 ]\n",
    "df1"
   ]
  },
  {
   "cell_type": "code",
   "execution_count": 27,
   "metadata": {},
   "outputs": [],
   "source": [
    "#save file to csv\n",
    "df1.to_csv(\"songs_after_1979.csv\")"
   ]
  },
  {
   "cell_type": "code",
   "execution_count": 28,
   "metadata": {},
   "outputs": [
    {
     "data": {
      "text/html": [
       "<div>\n",
       "<style scoped>\n",
       "    .dataframe tbody tr th:only-of-type {\n",
       "        vertical-align: middle;\n",
       "    }\n",
       "\n",
       "    .dataframe tbody tr th {\n",
       "        vertical-align: top;\n",
       "    }\n",
       "\n",
       "    .dataframe thead th {\n",
       "        text-align: right;\n",
       "    }\n",
       "</style>\n",
       "<table border=\"1\" class=\"dataframe\">\n",
       "  <thead>\n",
       "    <tr style=\"text-align: right;\">\n",
       "      <th></th>\n",
       "      <th>Unnamed: 0</th>\n",
       "      <th>Album</th>\n",
       "      <th>Released</th>\n",
       "      <th>Length</th>\n",
       "    </tr>\n",
       "  </thead>\n",
       "  <tbody>\n",
       "    <tr>\n",
       "      <th>0</th>\n",
       "      <td>0</td>\n",
       "      <td>a</td>\n",
       "      <td>1982</td>\n",
       "      <td>00:42:19</td>\n",
       "    </tr>\n",
       "    <tr>\n",
       "      <th>1</th>\n",
       "      <td>1</td>\n",
       "      <td>b</td>\n",
       "      <td>1980</td>\n",
       "      <td>00:42:11</td>\n",
       "    </tr>\n",
       "    <tr>\n",
       "      <th>2</th>\n",
       "      <td>3</td>\n",
       "      <td>d</td>\n",
       "      <td>1982</td>\n",
       "      <td>00:42:11</td>\n",
       "    </tr>\n",
       "  </tbody>\n",
       "</table>\n",
       "</div>"
      ],
      "text/plain": [
       "   Unnamed: 0 Album  Released    Length\n",
       "0           0     a      1982  00:42:19\n",
       "1           1     b      1980  00:42:11\n",
       "2           3     d      1982  00:42:11"
      ]
     },
     "execution_count": 28,
     "metadata": {},
     "output_type": "execute_result"
    }
   ],
   "source": [
    "#export data from csv\n",
    "df2 = pd.read_csv(\"songs_after_1979.csv\")\n",
    "df2"
   ]
  }
 ],
 "metadata": {
  "kernelspec": {
   "display_name": "Python 3",
   "language": "python",
   "name": "python3"
  },
  "language_info": {
   "codemirror_mode": {
    "name": "ipython",
    "version": 3
   },
   "file_extension": ".py",
   "mimetype": "text/x-python",
   "name": "python",
   "nbconvert_exporter": "python",
   "pygments_lexer": "ipython3",
   "version": "3.7.6"
  }
 },
 "nbformat": 4,
 "nbformat_minor": 4
}
